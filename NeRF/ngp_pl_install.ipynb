{
 "cells": [
  {
   "cell_type": "code",
   "execution_count": null,
   "id": "21ad4224-70ca-49e6-890c-09c1a342c0b3",
   "metadata": {},
   "outputs": [],
   "source": [
    "%cd ngp_pl"
   ]
  },
  {
   "cell_type": "markdown",
   "id": "defca8e5-ec45-4af9-a110-d295c93779b0",
   "metadata": {},
   "source": [
    "## Torch"
   ]
  },
  {
   "cell_type": "code",
   "execution_count": null,
   "id": "f656f23a",
   "metadata": {},
   "outputs": [],
   "source": [
    "!pip install torch==1.11.0 torchvision==0.12.0 --extra-index-url https://download.pytorch.org/whl/cu113"
   ]
  },
  {
   "cell_type": "markdown",
   "id": "98e6094d-19fe-49c0-8d1f-a96cf41b9818",
   "metadata": {},
   "source": [
    "## Torch-scatter"
   ]
  },
  {
   "cell_type": "code",
   "execution_count": null,
   "id": "e929d575-add5-4fb3-b4b4-525a4b39558a",
   "metadata": {},
   "outputs": [],
   "source": [
    "!pip install torch-scatter -f https://data.pyg.org/whl/torch-1.11.0+cu113.html"
   ]
  },
  {
   "cell_type": "markdown",
   "id": "e7c0e905-792f-4bec-b4e4-6e3ad80c5d37",
   "metadata": {},
   "source": [
    "## Tinycudann"
   ]
  },
  {
   "cell_type": "code",
   "execution_count": null,
   "id": "4d22e530-f9bc-412c-9ed6-644386d5677a",
   "metadata": {},
   "outputs": [],
   "source": [
    "!pip install git+https://github.com/NVlabs/tiny-cuda-nn/#subdirectory=bindings/torch"
   ]
  },
  {
   "cell_type": "markdown",
   "id": "feccae6d-bd5a-4ecc-87ea-b70f2f9fc94f",
   "metadata": {},
   "source": [
    "## Apex"
   ]
  },
  {
   "cell_type": "code",
   "execution_count": null,
   "id": "ee5f2718-2ef6-4603-9096-cabe12b4f1d0",
   "metadata": {},
   "outputs": [],
   "source": [
    "%cd .."
   ]
  },
  {
   "cell_type": "code",
   "execution_count": null,
   "id": "b05c40e3-8a25-49a4-9cc0-a9184e4ece13",
   "metadata": {},
   "outputs": [],
   "source": [
    "%cd apex"
   ]
  },
  {
   "cell_type": "code",
   "execution_count": null,
   "id": "2d2d76e3-c493-4b1d-90f1-fa6429fe9c6b",
   "metadata": {},
   "outputs": [],
   "source": [
    "!pip install -v --disable-pip-version-check --no-cache-dir --global-option=\"--cpp_ext\" --global-option=\"--cuda_ext\" ./"
   ]
  },
  {
   "cell_type": "markdown",
   "id": "2a9ab233-96ee-4044-bb1b-263ec4387860",
   "metadata": {},
   "source": [
    "## Last step"
   ]
  },
  {
   "cell_type": "code",
   "execution_count": null,
   "id": "1262204a-890a-4b09-a1ff-8a362b2b7531",
   "metadata": {},
   "outputs": [],
   "source": [
    "%cd .."
   ]
  },
  {
   "cell_type": "code",
   "execution_count": null,
   "id": "662dd2a7-55c6-488c-9f35-98bfe093b8fb",
   "metadata": {},
   "outputs": [],
   "source": [
    "%cd ngp_pl"
   ]
  },
  {
   "cell_type": "code",
   "execution_count": null,
   "id": "f036a006-c46d-4f16-be5b-1db7818f180a",
   "metadata": {},
   "outputs": [],
   "source": [
    "!pip install -r requirements.txt"
   ]
  },
  {
   "cell_type": "code",
   "execution_count": null,
   "id": "0b2924fb-d0eb-46a0-85e0-798e9af8ef8e",
   "metadata": {},
   "outputs": [],
   "source": [
    "!pip install --upgrade pip"
   ]
  },
  {
   "cell_type": "code",
   "execution_count": null,
   "id": "767a1430-1f38-4196-b399-9dcfe44e7fc4",
   "metadata": {},
   "outputs": [],
   "source": [
    "!pip install models/csrc/"
   ]
  },
  {
   "cell_type": "code",
   "execution_count": null,
   "id": "4f742771-89b9-4138-a1fc-3b31687adf3a",
   "metadata": {},
   "outputs": [],
   "source": [
    "!export PYTHONPATH=/usr/lib/python3.9/site-packages"
   ]
  }
 ],
 "metadata": {
  "kernelspec": {
   "display_name": "Python 3 (ipykernel)",
   "language": "python",
   "name": "python3"
  },
  "language_info": {
   "codemirror_mode": {
    "name": "ipython",
    "version": 3
   },
   "file_extension": ".py",
   "mimetype": "text/x-python",
   "name": "python",
   "nbconvert_exporter": "python",
   "pygments_lexer": "ipython3",
   "version": "3.9.13"
  }
 },
 "nbformat": 4,
 "nbformat_minor": 5
}
